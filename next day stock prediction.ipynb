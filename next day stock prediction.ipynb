{
 "cells": [
  {
   "cell_type": "markdown",
   "metadata": {},
   "source": [
    "<div style=\"text-align:center\"><span style=\"color:black; font-family:Times New Roman; font-size:3em;\"> Next-day stock prediction </span></div>"
   ]
  },
  {
   "cell_type": "markdown",
   "metadata": {},
   "source": [
    "<div style=\"text-align:center\"><span style=\"color:blue; font-family:Times New Roman; font-size:3em;\"> Introduction </span></div>"
   ]
  },
  {
   "cell_type": "markdown",
   "metadata": {},
   "source": [
    "<div style=\"text-align:justify\"><span style=\"color:black; font-family:Times New Roman; font-size:1.5em;line-height:1.4em;padding-left:3em;padding-right:3em;\"> &nbsp;&nbsp;&nbsp;&nbsp;&nbsp;&nbsp;Stock market prediction is both an interesting and challenging task by researchers and investors because of its dynamic and seemly chaotic nature. Stock analysis is challenging because there are so many data and diverse parameters that decide the stock price and it also involves the profit risk in the markets.  Many techniques have been applied to stock market prediction such as  statistical analysis. Recently, many researchers have turned to techniques in the field of Machine learning for forecasting stock price. Machine learning algorithms has the ability to learn from given past massive data and predict future data movement.\n",
    "\n",
    "<br \\>\n",
    "<br \\>\n",
    "&nbsp;&nbsp;&nbsp;&nbsp;&nbsp;&nbsp;In this project, I utilized several Machine Learning techniques to predict whether tomorrow’s exchange closing price is lower or higher than today's price. There are two types of analysis for machine learning techniques: Fundamental Analysis and Technical Analysis. Fundamental analysis is focused on statistical data of a company, such as financial status of the company. Technical Analysis uses quantitative parameters like daily volume, open, close, highest, lowest prices and volume of a stock. It also includes simple Moving Average (EMA) of last n days and Exponential Moving Average (EMA) which applies more weight on price of recent days. When applying Machine Learning to stock data, I used a hybrid analysis model involving both Fundamental and Technical Analysis. After collecting all related input variables, I applied Principal components analysis (PCA) to filter out unrelated variables. Several Machine Learning models were applied on selected variables filtered by the PCA in order to achieve best accuracy performance of next-day stock prediction.\n",
    " </span></div>"
   ]
  },
  {
   "cell_type": "markdown",
   "metadata": {},
   "source": [
    "<div style=\"text-align:center\"><span style=\"color:blue; font-family:Times New Roman; font-size:3em;\"> Data Collection and Processing </span></div>"
   ]
  },
  {
   "cell_type": "markdown",
   "metadata": {},
   "source": [
    "<div style=\"text-align:justify\"><span style=\"color:black; font-family:Times New Roman; font-size:1.5em;line-height:1.4em;\"> &nbsp;&nbsp;&nbsp;&nbsp;&nbsp;&nbsp;The stock market data used in this project was collected from Quandl. The equity fundamental data of a company was implemented from the Sharadar Core Fundamentals database, SF1. This database covers over 200 essential financial ratios and fundamental indicators for nearly 3000 US companies, with quarterly and annual reporting periods. The financial indicators of a company were download quarterly from SF1, such as total assets, revenue, capital expenditure, shareholders equity, Gross profit, etc. I also used the Wiki EOD database to extract daily adjusted open, high, low, close stock price and volume data. Stockstats module in Python was used to calculate other stock market indicators, including relative strength index and stochastic oscillator.\n",
    " </span></div>"
   ]
  },
  {
   "cell_type": "code",
   "execution_count": 93,
   "metadata": {
    "collapsed": false
   },
   "outputs": [],
   "source": [
    "import quandl\n",
    "import pandas as pd\n",
    "import numpy as np\n",
    "from stockstats import StockDataFrame\n",
    "import warnings\n",
    "warnings.filterwarnings(\"ignore\")\n",
    "\n",
    "def SF1_List (company_ticker):    \n",
    "        sqllist=['SF1/{}_ASSETS_ARQ'.format(company_ticker),    # Total Assets                           \n",
    "             'SF1/{}_REVENUE_ARQ'.format(company_ticker),       # Revenue                                     \n",
    "             'SF1/{}_CAPEX_ARQ'.format(company_ticker),         # Capital Expenditure                     \n",
    "             'SF1/{}_EQUITY_ARQ'.format(company_ticker),        # Shareholders Equity                     \n",
    "             'SF1/{}_GP_ARQ'.format(company_ticker),            # Gross Profit                               \n",
    "             'SF1/{}_EPS_ARQ'.format(company_ticker),           # Earnings per Basic Share         \n",
    "             'SF1/{}_EBIT_ARQ'.format(company_ticker),          # Earning Before Interest & Taxes (EBIT)\n",
    "             'SF1/{}_EBITDA_ARQ'.format(company_ticker),        # Earnings Before Interest, Taxes and Depreciation Amortization             \n",
    "             'SF1/{}_NCFO_ARQ'.format(company_ticker),          # Net Cash Flow from Operations  \n",
    "             'SF1/{}_LIABILITIES_ARQ'.format(company_ticker),   # Total Liabilities\n",
    "             'SF1/{}_PB_ARQ'.format(company_ticker),            # Price to Book Value (Price to book value (P/B) ratio)\n",
    "             'SF1/{}_SHARESWA_ARQ'.format(company_ticker),      # Shares Outstanding (Weighted Average Shares)  \n",
    "             'SF1/{}_LIABILITIESC_ARQ'.format(company_ticker),  # Current Liabilities\n",
    "             'SF1/{}_ASSETSC_ARQ'.format(company_ticker),       # Current Assets\n",
    "             'SF1/{}_INVENTORY_ARQ'.format(company_ticker),     # Inventory \n",
    "             'SF1/{}_CURRENTRATIO_ARQ'.format(company_ticker),  # Current Ratio #Current Assets/Current Liabilities\n",
    "             'SF1/{}_DE_ARQ'.format(company_ticker),            # Debt to Equity Ratio #Total Liabilities/ Shareholders Equity\n",
    "             'SF1/{}_BVPS_ARQ'.format(company_ticker),          # Book Value per Share #(Stockholders' Equity - Preferred Stock)/ Average shares outstanding                      \n",
    "             'SF1/{}_NETINC_ARQ'.format(company_ticker),         # Net Income\n",
    "            ]   \n",
    "        return sqllist\n",
    "\n",
    "#######################################################################################################\n",
    "def get_fundamantal_data(ticker, date):\n",
    "    import quandl\n",
    "    import pandas as pd\n",
    "    from stockstats import StockDataFrame\n",
    "    import warnings\n",
    "    warnings.filterwarnings(\"ignore\")\n",
    "    \n",
    "    quandl.ApiConfig.api_key = 'LqAzd9wm8ZWXxLDNtc_1'\n",
    "    fundamental_data=quandl.get(SF1_List(ticker),start_date= date)\n",
    "    new_columnnames=['Total Assets','REVENUE','Capital Expenditure','Shareholders Equity','Gross Profit',\n",
    "                'Earnings per Basic Share','Earning Before Interest and Taxes','EBITDA',\n",
    "                'Net Cash Flow from Operation','Total Liabilities',\n",
    "                'Price to Book Value', 'Shares Outstanding',\n",
    "                'Current Liabilities','Current Assets','Inventory',\n",
    "                'Current Ratio','Debt to Equity Ratio','Book Value per Share','Net Income']\n",
    "    old_columnnames=list(fundamental_data.columns)\n",
    "    fundamental_data.rename(columns=dict(zip(old_columnnames,new_columnnames)),inplace=True)\n",
    "    fundamental_data.columns=fundamental_data.columns.map(str.title)\n",
    "    return fundamental_data\n",
    "\n",
    "#######################################################################################################\n",
    "def get_technical_data(ticker,fundamental_data):\n",
    "    data=quandl.get(ticker, start_date= fundamental_data.index[0])\n",
    "    selectedcol=[\"Adj. Close\",'Adj. Open','Adj. High','Adj. Low', 'Adj. Volume']\n",
    "    technical_data=data[selectedcol]\n",
    "\n",
    "    technical_data['5-days moving average'] = pd.rolling_mean(technical_data['Adj. Close'], 5, min_periods=2)\n",
    "    technical_data['1-week Ewma'] = pd.ewma(technical_data['Adj. Close'], span=5, min_periods=2)\n",
    "    technical_data['1-week annualized historical volatility'] = pd.rolling_std(technical_data['Adj. Close'].pct_change(), 5) * (255**0.5)\n",
    "    technical_data['2-day price change'] = technical_data['Adj. Close'].diff()\n",
    "    \n",
    "    stock = StockDataFrame.retype(data)\n",
    "    #RSI is considered overbought when above 70 and oversold when below 30\n",
    "    technical_data['2-days relative strength index']= stock['rsi_2']\n",
    "    technical_data['1-week relative strength index']= stock['rsi_5']\n",
    "    technical_data['stochastic oscillator K line']= stock['kdjk']\n",
    "    technical_data['stochastic oscillator J line']= stock['kdjj']\n",
    "\n",
    "    return technical_data\n",
    "\n",
    "#######################################################################################################\n",
    "def get_hybrid_data(technical_data, fundamental_data):\n",
    "    combined_data=pd.concat([technical_data,fundamental_data], axis=1).fillna(method= 'ffill')\n",
    "    combined_data.dropna(inplace=True)\n",
    "                   \n",
    "    combined_data[\"PE Ratio\"]= combined_data['Adj. Close'] / combined_data['Earnings Per Basic Share'] \n",
    "    combined_data['Capital Expenditure Coverage'] = combined_data['Net Cash Flow From Operation'] / combined_data['Capital Expenditure']\n",
    "\n",
    "    combined_data['Free Cash Flow Operating Ratio'] = \\\n",
    "    (combined_data[\"Net Cash Flow From Operation\"] - combined_data[\"Capital Expenditure\"]) / combined_data[\"Net Cash Flow From Operation\"]\n",
    "    combined_data['Operating Cash Flow Ratio'] = combined_data[\"Net Cash Flow From Operation\"] / combined_data[\"Revenue\"] \n",
    "    combined_data['Debt Ratio'] = combined_data[\"Total Liabilities\"] / combined_data[\"Total Assets\"] \n",
    "    combined_data['Cash Flow To Debt Ratio'] = combined_data[\"Net Cash Flow From Operation\"] / combined_data[\"Total Liabilities\"] \n",
    "    combined_data['Cash Flow Per Share'] = combined_data[\"Net Cash Flow From Operation\"] / combined_data[\"Shares Outstanding\"]\n",
    "    combined_data['Cash Ratio']  = combined_data[\"Net Cash Flow From Operation\"] / combined_data[\"Current Liabilities\"]\n",
    "    combined_data['Quick Ratio'] = (combined_data[\"Current Assets\"] - combined_data[\"Inventory\"]) / combined_data[\"Current Liabilities\"]\n",
    "    combined_data['Gross Profit Margin'] = combined_data[\"Gross Profit\"] / combined_data[\"Revenue\"]\n",
    "    combined_data['Price To Sales Ratio'] = combined_data['Adj. Close'] / (combined_data[\"Revenue\"] / combined_data[\"Shares Outstanding\"] )\n",
    "    combined_data['Return On Average Equity']  = combined_data[\"Net Income\"] / combined_data[\"Shareholders Equity\"] \n",
    "    return combined_data\n"
   ]
  },
  {
   "cell_type": "markdown",
   "metadata": {},
   "source": [
    "<div style=\"text-align:justify\"><span style=\"color:black; font-family:Times New Roman; font-size:1.5em;line-height:1.4em;\">   For illustration purpose, I chose the Apple stock data, starting from 2010-02-01 until the most recent date (2017-04-07). There are 44 features as the input variables which are 13 technical and 31 fundamental features.   \n",
    "\n",
    " </span></div>"
   ]
  },
  {
   "cell_type": "code",
   "execution_count": 2,
   "metadata": {
    "collapsed": false
   },
   "outputs": [],
   "source": [
    "# Import the fundamental data of the AAPL stock\n",
    "fundamental_data = get_fundamantal_data('AAPL', '2010-02-01')\n",
    "# Import the technical data of the AAPL stock, and combined them with the fundamental data into one dataframe\n",
    "technical_data = get_technical_data('WIKI/AAPL',fundamental_data)\n",
    "combined_data = get_hybrid_data(technical_data, fundamental_data)\n",
    "#combined_data.to_csv('stockdata.csv')"
   ]
  },
  {
   "cell_type": "markdown",
   "metadata": {},
   "source": [
    "<div style=\"text-align:left\"><span style=\"color:red; font-family:Times New Roman; font-size:1.5em;\">  Technical input variables </span></div>"
   ]
  },
  {
   "cell_type": "code",
   "execution_count": 65,
   "metadata": {
    "collapsed": false
   },
   "outputs": [
    {
     "data": {
      "text/plain": [
       "[u'Adj. Close',\n",
       " u'Adj. Open',\n",
       " u'Adj. High',\n",
       " u'Adj. Low',\n",
       " u'Adj. Volume',\n",
       " '5-days moving average',\n",
       " '1-week Ewma',\n",
       " '1-week annualized historical volatility',\n",
       " '2-day price change',\n",
       " '2-days relative strength index',\n",
       " '1-week relative strength index',\n",
       " 'stochastic oscillator K line',\n",
       " 'stochastic oscillator J line']"
      ]
     },
     "execution_count": 65,
     "metadata": {},
     "output_type": "execute_result"
    }
   ],
   "source": [
    "list(combined_data.columns)[:13]"
   ]
  },
  {
   "cell_type": "markdown",
   "metadata": {},
   "source": [
    "<div style=\"text-align:left\"><span style=\"color:red; font-family:Times New Roman; font-size:1.5em;\"> Fundamental input variables </span></div>"
   ]
  },
  {
   "cell_type": "code",
   "execution_count": 64,
   "metadata": {
    "collapsed": false
   },
   "outputs": [
    {
     "data": {
      "text/plain": [
       "['Total Assets',\n",
       " 'Revenue',\n",
       " 'Capital Expenditure',\n",
       " 'Shareholders Equity',\n",
       " 'Gross Profit',\n",
       " 'Earnings Per Basic Share',\n",
       " 'Earning Before Interest And Taxes',\n",
       " 'Ebitda',\n",
       " 'Net Cash Flow From Operation',\n",
       " 'Total Liabilities',\n",
       " 'Price To Book Value',\n",
       " 'Shares Outstanding',\n",
       " 'Current Liabilities',\n",
       " 'Current Assets',\n",
       " 'Inventory',\n",
       " 'Current Ratio',\n",
       " 'Debt To Equity Ratio',\n",
       " 'Book Value Per Share',\n",
       " 'Net Income',\n",
       " 'PE Ratio',\n",
       " 'Capital Expenditure Coverage',\n",
       " 'Free Cash Flow Operating Ratio',\n",
       " 'Operating Cash Flow Ratio',\n",
       " 'Debt Ratio',\n",
       " 'Cash Flow To Debt Ratio',\n",
       " 'Cash Flow Per Share',\n",
       " 'Cash Ratio',\n",
       " 'Quick Ratio',\n",
       " 'Gross Profit Margin',\n",
       " 'Price To Sales Ratio',\n",
       " 'Return On Average Equity']"
      ]
     },
     "execution_count": 64,
     "metadata": {},
     "output_type": "execute_result"
    }
   ],
   "source": [
    "list(combined_data.columns)[13:]"
   ]
  },
  {
   "cell_type": "code",
   "execution_count": 94,
   "metadata": {
    "collapsed": false
   },
   "outputs": [],
   "source": [
    "combined_data = pd.read_csv('stockdata.csv',index_col=0)"
   ]
  },
  {
   "cell_type": "code",
   "execution_count": 100,
   "metadata": {
    "collapsed": false
   },
   "outputs": [
    {
     "data": {
      "text/html": [
       "<div>\n",
       "<table border=\"1\" class=\"dataframe\">\n",
       "  <thead>\n",
       "    <tr style=\"text-align: right;\">\n",
       "      <th></th>\n",
       "      <th>Adj. Close</th>\n",
       "      <th>Adj. Open</th>\n",
       "      <th>Adj. High</th>\n",
       "      <th>Adj. Low</th>\n",
       "      <th>Adj. Volume</th>\n",
       "      <th>5-days moving average</th>\n",
       "      <th>1-week Ewma</th>\n",
       "      <th>1-week annualized historical volatility</th>\n",
       "      <th>2-day price change</th>\n",
       "      <th>2-days relative strength index</th>\n",
       "      <th>...</th>\n",
       "      <th>Free Cash Flow Operating Ratio</th>\n",
       "      <th>Operating Cash Flow Ratio</th>\n",
       "      <th>Debt Ratio</th>\n",
       "      <th>Cash Flow To Debt Ratio</th>\n",
       "      <th>Cash Flow Per Share</th>\n",
       "      <th>Cash Ratio</th>\n",
       "      <th>Quick Ratio</th>\n",
       "      <th>Gross Profit Margin</th>\n",
       "      <th>Price To Sales Ratio</th>\n",
       "      <th>Return On Average Equity</th>\n",
       "    </tr>\n",
       "    <tr>\n",
       "      <th>Date</th>\n",
       "      <th></th>\n",
       "      <th></th>\n",
       "      <th></th>\n",
       "      <th></th>\n",
       "      <th></th>\n",
       "      <th></th>\n",
       "      <th></th>\n",
       "      <th></th>\n",
       "      <th></th>\n",
       "      <th></th>\n",
       "      <th></th>\n",
       "      <th></th>\n",
       "      <th></th>\n",
       "      <th></th>\n",
       "      <th></th>\n",
       "      <th></th>\n",
       "      <th></th>\n",
       "      <th></th>\n",
       "      <th></th>\n",
       "      <th></th>\n",
       "      <th></th>\n",
       "    </tr>\n",
       "  </thead>\n",
       "  <tbody>\n",
       "    <tr>\n",
       "      <th>2010-02-01</th>\n",
       "      <td>25.229885</td>\n",
       "      <td>24.924115</td>\n",
       "      <td>25.394430</td>\n",
       "      <td>24.785482</td>\n",
       "      <td>187469100.0</td>\n",
       "      <td>25.910274</td>\n",
       "      <td>25.583044</td>\n",
       "      <td>0.450414</td>\n",
       "      <td>0.345546</td>\n",
       "      <td>34.900471</td>\n",
       "      <td>...</td>\n",
       "      <td>1.065041</td>\n",
       "      <td>0.368616</td>\n",
       "      <td>0.336721</td>\n",
       "      <td>0.318372</td>\n",
       "      <td>0.914022</td>\n",
       "      <td>0.441399</td>\n",
       "      <td>2.501031</td>\n",
       "      <td>0.408787</td>\n",
       "      <td>10.174955</td>\n",
       "      <td>0.094442</td>\n",
       "    </tr>\n",
       "    <tr>\n",
       "      <th>2010-02-02</th>\n",
       "      <td>25.376291</td>\n",
       "      <td>25.382770</td>\n",
       "      <td>25.435891</td>\n",
       "      <td>25.054974</td>\n",
       "      <td>174585600.0</td>\n",
       "      <td>25.649074</td>\n",
       "      <td>25.509842</td>\n",
       "      <td>0.427720</td>\n",
       "      <td>0.146407</td>\n",
       "      <td>48.141773</td>\n",
       "      <td>...</td>\n",
       "      <td>1.065041</td>\n",
       "      <td>0.368616</td>\n",
       "      <td>0.336721</td>\n",
       "      <td>0.318372</td>\n",
       "      <td>0.914022</td>\n",
       "      <td>0.441399</td>\n",
       "      <td>2.501031</td>\n",
       "      <td>0.408787</td>\n",
       "      <td>10.234000</td>\n",
       "      <td>0.094442</td>\n",
       "    </tr>\n",
       "    <tr>\n",
       "      <th>2010-02-03</th>\n",
       "      <td>25.812920</td>\n",
       "      <td>25.286893</td>\n",
       "      <td>25.938597</td>\n",
       "      <td>25.189720</td>\n",
       "      <td>153832000.0</td>\n",
       "      <td>25.424826</td>\n",
       "      <td>25.614970</td>\n",
       "      <td>0.452734</td>\n",
       "      <td>0.436629</td>\n",
       "      <td>76.568723</td>\n",
       "      <td>...</td>\n",
       "      <td>1.065041</td>\n",
       "      <td>0.368616</td>\n",
       "      <td>0.336721</td>\n",
       "      <td>0.318372</td>\n",
       "      <td>0.914022</td>\n",
       "      <td>0.441399</td>\n",
       "      <td>2.501031</td>\n",
       "      <td>0.408787</td>\n",
       "      <td>10.410088</td>\n",
       "      <td>0.094442</td>\n",
       "    </tr>\n",
       "    <tr>\n",
       "      <th>2010-02-04</th>\n",
       "      <td>24.882655</td>\n",
       "      <td>25.489012</td>\n",
       "      <td>25.701496</td>\n",
       "      <td>24.820464</td>\n",
       "      <td>189413000.0</td>\n",
       "      <td>25.237218</td>\n",
       "      <td>25.364346</td>\n",
       "      <td>0.428907</td>\n",
       "      <td>-0.930265</td>\n",
       "      <td>22.953576</td>\n",
       "      <td>...</td>\n",
       "      <td>1.065041</td>\n",
       "      <td>0.368616</td>\n",
       "      <td>0.336721</td>\n",
       "      <td>0.318372</td>\n",
       "      <td>0.914022</td>\n",
       "      <td>0.441399</td>\n",
       "      <td>2.501031</td>\n",
       "      <td>0.408787</td>\n",
       "      <td>10.034921</td>\n",
       "      <td>0.094442</td>\n",
       "    </tr>\n",
       "    <tr>\n",
       "      <th>2010-02-05</th>\n",
       "      <td>25.324466</td>\n",
       "      <td>24.957154</td>\n",
       "      <td>25.394430</td>\n",
       "      <td>24.727179</td>\n",
       "      <td>212576700.0</td>\n",
       "      <td>25.325243</td>\n",
       "      <td>25.350818</td>\n",
       "      <td>0.363032</td>\n",
       "      <td>0.441811</td>\n",
       "      <td>53.729037</td>\n",
       "      <td>...</td>\n",
       "      <td>1.065041</td>\n",
       "      <td>0.368616</td>\n",
       "      <td>0.336721</td>\n",
       "      <td>0.318372</td>\n",
       "      <td>0.914022</td>\n",
       "      <td>0.441399</td>\n",
       "      <td>2.501031</td>\n",
       "      <td>0.408787</td>\n",
       "      <td>10.213099</td>\n",
       "      <td>0.094442</td>\n",
       "    </tr>\n",
       "  </tbody>\n",
       "</table>\n",
       "<p>5 rows × 44 columns</p>\n",
       "</div>"
      ],
      "text/plain": [
       "            Adj. Close  Adj. Open  Adj. High   Adj. Low  Adj. Volume  \\\n",
       "Date                                                                   \n",
       "2010-02-01   25.229885  24.924115  25.394430  24.785482  187469100.0   \n",
       "2010-02-02   25.376291  25.382770  25.435891  25.054974  174585600.0   \n",
       "2010-02-03   25.812920  25.286893  25.938597  25.189720  153832000.0   \n",
       "2010-02-04   24.882655  25.489012  25.701496  24.820464  189413000.0   \n",
       "2010-02-05   25.324466  24.957154  25.394430  24.727179  212576700.0   \n",
       "\n",
       "            5-days moving average  1-week Ewma  \\\n",
       "Date                                             \n",
       "2010-02-01              25.910274    25.583044   \n",
       "2010-02-02              25.649074    25.509842   \n",
       "2010-02-03              25.424826    25.614970   \n",
       "2010-02-04              25.237218    25.364346   \n",
       "2010-02-05              25.325243    25.350818   \n",
       "\n",
       "            1-week annualized historical volatility  2-day price change  \\\n",
       "Date                                                                      \n",
       "2010-02-01                                 0.450414            0.345546   \n",
       "2010-02-02                                 0.427720            0.146407   \n",
       "2010-02-03                                 0.452734            0.436629   \n",
       "2010-02-04                                 0.428907           -0.930265   \n",
       "2010-02-05                                 0.363032            0.441811   \n",
       "\n",
       "            2-days relative strength index            ...             \\\n",
       "Date                                                  ...              \n",
       "2010-02-01                       34.900471            ...              \n",
       "2010-02-02                       48.141773            ...              \n",
       "2010-02-03                       76.568723            ...              \n",
       "2010-02-04                       22.953576            ...              \n",
       "2010-02-05                       53.729037            ...              \n",
       "\n",
       "            Free Cash Flow Operating Ratio  Operating Cash Flow Ratio  \\\n",
       "Date                                                                    \n",
       "2010-02-01                        1.065041                   0.368616   \n",
       "2010-02-02                        1.065041                   0.368616   \n",
       "2010-02-03                        1.065041                   0.368616   \n",
       "2010-02-04                        1.065041                   0.368616   \n",
       "2010-02-05                        1.065041                   0.368616   \n",
       "\n",
       "            Debt Ratio  Cash Flow To Debt Ratio  Cash Flow Per Share  \\\n",
       "Date                                                                   \n",
       "2010-02-01    0.336721                 0.318372             0.914022   \n",
       "2010-02-02    0.336721                 0.318372             0.914022   \n",
       "2010-02-03    0.336721                 0.318372             0.914022   \n",
       "2010-02-04    0.336721                 0.318372             0.914022   \n",
       "2010-02-05    0.336721                 0.318372             0.914022   \n",
       "\n",
       "            Cash Ratio  Quick Ratio  Gross Profit Margin  \\\n",
       "Date                                                       \n",
       "2010-02-01    0.441399     2.501031             0.408787   \n",
       "2010-02-02    0.441399     2.501031             0.408787   \n",
       "2010-02-03    0.441399     2.501031             0.408787   \n",
       "2010-02-04    0.441399     2.501031             0.408787   \n",
       "2010-02-05    0.441399     2.501031             0.408787   \n",
       "\n",
       "            Price To Sales Ratio  Return On Average Equity  \n",
       "Date                                                        \n",
       "2010-02-01             10.174955                  0.094442  \n",
       "2010-02-02             10.234000                  0.094442  \n",
       "2010-02-03             10.410088                  0.094442  \n",
       "2010-02-04             10.034921                  0.094442  \n",
       "2010-02-05             10.213099                  0.094442  \n",
       "\n",
       "[5 rows x 44 columns]"
      ]
     },
     "execution_count": 100,
     "metadata": {},
     "output_type": "execute_result"
    }
   ],
   "source": [
    "combined_data.head()"
   ]
  },
  {
   "cell_type": "markdown",
   "metadata": {},
   "source": [
    "<div style=\"text-align:justify\"><span style=\"color:black; font-family:Times New Roman; font-size:1.5em;line-height:1.4em;\"> &nbsp;&nbsp;&nbsp;&nbsp;&nbsp;&nbsp;  The technical and fundamental variables in the combined_data dataframe are chosen to be the feature variables X, which will be used to train a specific Machine Learning model. The predicted output Y is whether the adjusted closing price on the next day is higher or lower than the current day's price.\n",
    "Therefore, I shifted the 'Adj. Close' (Adjusted closing price) column of the combined_data dataframe backwards one day and substrate it by the 'Adj. Close' value on the current day.\n",
    "The target variable Y is set to be the difference between the adjusted closing price of the current day and next day.\n",
    "If the difference is larger than 0, I label it as 1, which means the closing price on the next day is higher than the current day.\n",
    "Otherwise, I label it as 0.\n",
    "<br \\>\n",
    "&nbsp;&nbsp;&nbsp;&nbsp;&nbsp;&nbsp;Because the target variable is the closing price on the day t+1 subtracted by the price on the day t, the last day in the target variable will be ‘NULL’. Therefore I drop the data on the last day in both the feature variables and target variable.\n",
    "\n",
    " </span></div>"
   ]
  },
  {
   "cell_type": "code",
   "execution_count": 97,
   "metadata": {
    "collapsed": true
   },
   "outputs": [],
   "source": [
    "def generate_XY_variables(combined_data):\n",
    "    X=combined_data[:-1]\n",
    "    Y_class= combined_data['Adj. Close'].shift(-1) - combined_data['Adj. Close']\n",
    "    Y_class=Y_class[:-1]\n",
    "    Y = Y_class > 0\n",
    "    return X, Y"
   ]
  },
  {
   "cell_type": "code",
   "execution_count": 98,
   "metadata": {
    "collapsed": false
   },
   "outputs": [],
   "source": [
    "X, Y = generate_XY_variables(combined_data)"
   ]
  },
  {
   "cell_type": "markdown",
   "metadata": {},
   "source": [
    "<div style=\"text-align:justify\"><span style=\"color:black; font-family:Times New Roman; font-size:1.5em;line-height:1.4em;\"> &nbsp;&nbsp;&nbsp;&nbsp;&nbsp;&nbsp;  \n",
    "I split my dataset into the training and test sets by selecting a split date. \n",
    "Train-Test split still maintained temporal order of data observations. I didn’t shuffle data randomly, because I may lose its nature order of data. Therefore, I used the feature variables X and the target variable Y since 2010-02-01 to 2016-10-13 as the training set and the last 120 days (2016-10-14 ~ 2017-04-07 ) as the test set for model evaluation, which I call them as x_train, x_test, y_train, y_test.\n",
    "<br \\>\n",
    "&nbsp;&nbsp;&nbsp;&nbsp;&nbsp;&nbsp;Data normalization procedure before data modeling is quite essential to enhance the learning capability of most Machine Leaning models with minimum error and improve the prediction accuracy. \n",
    "There are many types of data normalization. It can be used to scale the data in the similar range of values for each feature variable in order to minimize bias between features. \n",
    "I use the median method to normalize each feature column by the median of the feature values for all the samples. Median is very useful because it is not influenced by the magnitude of extreme outliers.       \n",
    "\n",
    "\n",
    " </span></div>"
   ]
  },
  {
   "cell_type": "code",
   "execution_count": 102,
   "metadata": {
    "collapsed": true
   },
   "outputs": [],
   "source": [
    "def split_scale (X,Y):\n",
    "    #from sklearn.model_selection import train_test_split\n",
    "    #x_train,x_test, y_train,y_test=train_test_split(X,Y, test_size=0.2, random_state=0)\n",
    "    #x_train=x_train.sort_index()\n",
    "    #y_train=y_train.sort_index()\n",
    "    #y_test=y_test.sort_index()\n",
    "    \n",
    "    #x_train = X[:int(len(X)*.8)]\n",
    "    #y_train = Y[:int(len(X)*.8)]\n",
    "    #x_test = X[int(len(X)*.8):]\n",
    "    #y_test = Y[int(len(X)*.8):]\n",
    "    \n",
    "    x_train = X[:-120]\n",
    "    y_train = Y[:-120]\n",
    "    x_test = X[-120:]\n",
    "    y_test = Y[-120:]\n",
    "\n",
    "    x_train_scaled=x_train.apply(lambda x: x / np.median(x))\n",
    "    x_test_scaled=x_test/x_train.median()\n",
    "    return x_train_scaled, x_test_scaled, y_train, y_test, x_test"
   ]
  },
  {
   "cell_type": "code",
   "execution_count": 103,
   "metadata": {
    "collapsed": false
   },
   "outputs": [],
   "source": [
    "x_train_scaled, x_test_scaled, y_train, y_test, x_test = split_scale (X,Y)"
   ]
  },
  {
   "cell_type": "markdown",
   "metadata": {},
   "source": [
    "<div style=\"text-align:center\"><span style=\"color:blue; font-family:Times New Roman; font-size:3em;\"> Feature /Model selection </span></div>"
   ]
  },
  {
   "cell_type": "markdown",
   "metadata": {},
   "source": [
    "<div style=\"text-align:justify\"><span style=\"color:black; font-family:Times New Roman; font-size:1.5em;line-height:1.4em;\"> &nbsp;&nbsp;&nbsp;&nbsp;&nbsp;&nbsp;  Principal components analysis (PCA) is very powerful for dimensionality reduction. Given a set of data on n dimensions, PCA tries to ﬁnd a linear subspace of dimension d lower than n such that most of the variability of the data information can be maintained. I try to evaluate the stock prediction accuracy generated by different Machine learning algorithms. For each learning algorithm (except for Neural network), I construct a pipeline to perform a PCA followed by prediction with a specific classifier. The use of GridSearchCV can find the best number of extracted features through PCA and the best hyperparameters of a model by optimizing the classification accuracy at the end of the pipeline. In the end, I will select the one that performed best as my best model for short-term stock prediction.  \n",
    "    \n",
    "<br/>\n",
    "&nbsp;&nbsp;&nbsp;&nbsp;&nbsp;&nbsp;I split all data into the training set and test set in the previous section. \n",
    "By default, GridSearchCV uses 3-fold cross validation, which further divides the training data into the train set and validation set. 3-Fold Cross Validation will yield 3 different combination of train/validation sets. \n",
    "The train set is used to train the model and the validation set is for prediction error estimation. A model with best parameters will be selected by the validation set with maximum prediction accuracy and will be assessed by the test set to estimate generalization error of this selection.\n",
    "\n",
    " </span></div>"
   ]
  },
  {
   "cell_type": "code",
   "execution_count": 106,
   "metadata": {
    "collapsed": true
   },
   "outputs": [],
   "source": [
    "from sklearn.metrics import accuracy_score\n",
    "from sklearn.model_selection import GridSearchCV\n",
    "from sklearn.pipeline import Pipeline\n",
    "from sklearn.decomposition import PCA\n",
    "from sklearn.svm import SVC\n",
    "from sklearn.linear_model import SGDClassifier\n",
    "from sklearn.discriminant_analysis import LinearDiscriminantAnalysis\n",
    "from sklearn.discriminant_analysis import QuadraticDiscriminantAnalysis\n",
    "from sklearn.linear_model import LogisticRegression\n",
    "from sklearn.naive_bayes import GaussianNB\n",
    "from sklearn.svm import NuSVC\n",
    "from sklearn.tree import DecisionTreeClassifier\n",
    "from sklearn.ensemble import RandomForestClassifier\n",
    "from sklearn.ensemble import ExtraTreesClassifier\n",
    "from sklearn.ensemble import BaggingClassifier\n",
    "from sklearn.ensemble import AdaBoostClassifier\n",
    "from sklearn.ensemble import GradientBoostingClassifier\n",
    "from xgboost import XGBClassifier\n",
    "from sklearn.neighbors import KNeighborsClassifier"
   ]
  },
  {
   "cell_type": "markdown",
   "metadata": {},
   "source": [
    "<div style=\"text-align:left\"><span style=\"color:red; font-family:Times New Roman; font-size:1.8em;\"> Model #1 : Support Vector Classifier </span></div>"
   ]
  },
  {
   "cell_type": "code",
   "execution_count": 116,
   "metadata": {
    "collapsed": false
   },
   "outputs": [],
   "source": [
    "def model_SVC_PCA(X, x_train_scaled, x_test_scaled, y_train, y_test):\n",
    "    feature_number=len(X.columns)\n",
    "    pca = PCA(random_state=0)\n",
    "    n_components = range(1,feature_number,1)\n",
    "    classifier = SVC(random_state=0)\n",
    "    C = np.logspace(-3,3,7)#'linear', 'poly',\n",
    "    pipe = Pipeline(steps=[('pca', pca), ('clf', classifier)])\n",
    "    grid = GridSearchCV(pipe,dict(pca__n_components=n_components, clf__C=C, clf__kernel=['linear', 'rbf']), \n",
    "                        scoring='accuracy', n_jobs=-1)\n",
    "    grid.fit(x_train_scaled, y_train)\n",
    "    for params, mean_score, scores in grid.grid_scores_: \n",
    "        print '%.5f +/- %.5f %r' %(mean_score, scores.std(),params)\n",
    "    print 'Best parameters set found on development set:%r' % (grid.best_params_) \n",
    "    print 'Best average accuracy in validation set: %.5f' %(grid.best_score_)\n",
    "    print 'Accuracy in test set: %.5f' %(grid.score(x_test_scaled,y_test))\n",
    "    return grid.score(x_test_scaled,y_test)\n"
   ]
  },
  {
   "cell_type": "code",
   "execution_count": 109,
   "metadata": {
    "collapsed": false
   },
   "outputs": [
    {
     "name": "stdout",
     "output_type": "stream",
     "text": [
      "0.54115 +/- 0.02373 {'pca__n_components': 4, 'clf__C': 1, 'clf__kernel': 'linear'}\n",
      "Best parameters set found on development set:{'pca__n_components': 4, 'clf__C': 1, 'clf__kernel': 'linear'}\n",
      "Best average accuracy in validation set: 0.54115\n",
      "Accuracy in test set: 0.54167\n"
     ]
    }
   ],
   "source": [
    "accuracy_SVC = model_SVC_PCA(X, x_train_scaled, x_test_scaled, y_train, y_test)"
   ]
  },
  {
   "cell_type": "markdown",
   "metadata": {},
   "source": [
    "<div style=\"text-align:left\"><span style=\"color:red; font-family:Times New Roman; font-size:1.8em;\"> Model #2 : Logistic Regression </span></div>"
   ]
  },
  {
   "cell_type": "code",
   "execution_count": 163,
   "metadata": {
    "collapsed": false
   },
   "outputs": [],
   "source": [
    "def model_Logis_PCA(X, x_train_scaled, x_test_scaled, y_train, y_test):\n",
    "    feature_number=len(X.columns)\n",
    "    pca = PCA(random_state=0)\n",
    "    n_components = range(1,feature_number,1)\n",
    "    classifier = LogisticRegression(random_state=0)# default: ‘l2’\n",
    "    C = np.logspace(-3,3,7)\n",
    "    pipe = Pipeline(steps=[('pca', pca), ('clf', classifier)]) \n",
    "    grid = GridSearchCV(pipe,dict(pca__n_components=n_components, clf__C=C, \n",
    "                                  clf__penalty =['l1','l2']), scoring='accuracy', n_jobs=-1)\n",
    "    grid.fit(x_train_scaled, y_train)\n",
    "    #for params, mean_score, scores in grid.grid_scores_: \n",
    "    #    print '%.5f +/- %.5f %r' %(mean_score, scores.std(),params)\n",
    "    print 'Best parameters set found on development set:%r' % (grid.best_params_) \n",
    "    print 'Best average accuracy in validation set: %.5f' %(grid.best_score_)\n",
    "    print 'Accuracy in test set: %.5f' %(grid.score(x_test_scaled,y_test))\n",
    "    return grid.score(x_test_scaled,y_test)"
   ]
  },
  {
   "cell_type": "code",
   "execution_count": 164,
   "metadata": {
    "collapsed": false,
    "scrolled": true
   },
   "outputs": [
    {
     "name": "stdout",
     "output_type": "stream",
     "text": [
      "Best parameters set found on development set:{'clf__penalty': 'l2', 'clf__C': 0.01, 'pca__n_components': 1}\n",
      "Best average accuracy in validation set: 0.52753\n",
      "Accuracy in train set: 0.52398\n",
      "Accuracy in test set: 0.55000\n"
     ]
    }
   ],
   "source": [
    "accuracy_Logis = model_Logis_PCA(X, x_train_scaled, x_test_scaled, y_train, y_test)"
   ]
  },
  {
   "cell_type": "markdown",
   "metadata": {},
   "source": [
    "<div style=\"text-align:left\"><span style=\"color:red; font-family:Times New Roman; font-size:1.8em;\"> Model #3 : SGD Classifier  </span></div>"
   ]
  },
  {
   "cell_type": "code",
   "execution_count": 165,
   "metadata": {
    "collapsed": false
   },
   "outputs": [],
   "source": [
    "def model_SGD_PCA(X, x_train_scaled, x_test_scaled, y_train, y_test):\n",
    "    feature_number=len(X.columns)\n",
    "    pca = PCA(random_state=0)\n",
    "    n_components = range(1,feature_number,1)\n",
    "    classifier = SGDClassifier(loss='log',random_state=0)# default: ‘l2’\n",
    "    pipe = Pipeline(steps=[('pca', pca), ('clf', classifier)]) \n",
    "    grid = GridSearchCV(pipe,dict(pca__n_components=n_components, \n",
    "                                  clf__alpha=np.logspace(-7,-1,7), \n",
    "                                  clf__penalty=['elasticnet', 'l1','l2'],\n",
    "                                  clf__l1_ratio=np.linspace(0.1,0.9,9) \n",
    "                                 ), scoring='accuracy', n_jobs=-1)    \n",
    "    grid.fit(x_train_scaled, y_train)\n",
    "    print 'Best parameters set found on development set:%r' % (grid.best_params_) \n",
    "    print 'Best average accuracy in validation set: %.5f' %(grid.best_score_)\n",
    "    print 'Accuracy in test set: %.5f' %(grid.score(x_test_scaled,y_test))\n",
    "    return grid.score(x_test_scaled,y_test)"
   ]
  },
  {
   "cell_type": "code",
   "execution_count": 112,
   "metadata": {
    "collapsed": false,
    "scrolled": true
   },
   "outputs": [
    {
     "name": "stdout",
     "output_type": "stream",
     "text": [
      "Best parameters set found on development set:{'clf__penalty': 'elasticnet', 'clf__l1_ratio': 0.2, 'pca__n_components': 10, 'clf__alpha': 0.1}\n",
      "Best average accuracy in validation set: 0.53108\n",
      "Accuracy in test set: 0.54167\n"
     ]
    }
   ],
   "source": [
    "accuracy_SGD = model_SGD_PCA(X, x_train_scaled, x_test_scaled, y_train, y_test)"
   ]
  },
  {
   "cell_type": "markdown",
   "metadata": {},
   "source": [
    "<div style=\"text-align:left\"><span style=\"color:red; font-family:Times New Roman; font-size:1.8em;\"> Model #4 : Linear Discriminant Analysis </span></div>"
   ]
  },
  {
   "cell_type": "code",
   "execution_count": 167,
   "metadata": {
    "collapsed": false
   },
   "outputs": [],
   "source": [
    "def model_LDA_PCA(X, x_train_scaled, x_test_scaled, y_train, y_test):\n",
    "    feature_number=len(X.columns)\n",
    "    pca = PCA(random_state=0)\n",
    "    n_components = range(1,feature_number,1)\n",
    "    classifier =LinearDiscriminantAnalysis()\n",
    "    pipe = Pipeline(steps=[('pca', pca), ('clf', classifier)]) \n",
    "    grid = GridSearchCV(pipe,dict(pca__n_components=n_components), scoring='accuracy', n_jobs=-1)   \n",
    "    grid.fit(x_train_scaled, y_train)\n",
    "    #for params, mean_score, scores in grid.grid_scores_:\n",
    "    #    print '%.5f +/- %.5f %r' %(mean_score, scores.std(),params)\n",
    "    print 'Best parameters set found on development set:%r' % (grid.best_params_) \n",
    "    print 'Best average accuracy in validation set: %.5f' %(grid.best_score_)\n",
    "    print 'Accuracy in test set: %.5f' %(grid.score(x_test_scaled,y_test))\n",
    "    return grid.score(x_test_scaled,y_test)"
   ]
  },
  {
   "cell_type": "code",
   "execution_count": 168,
   "metadata": {
    "collapsed": false
   },
   "outputs": [
    {
     "name": "stdout",
     "output_type": "stream",
     "text": [
      "Best parameters set found on development set:{'pca__n_components': 1}\n",
      "Best average accuracy in validation set: 0.52635\n",
      "Accuracy in test set: 0.55000\n"
     ]
    }
   ],
   "source": [
    "accuracy_LDA = model_LDA_PCA(X, x_train_scaled, x_test_scaled, y_train, y_test)"
   ]
  },
  {
   "cell_type": "markdown",
   "metadata": {},
   "source": [
    "<div style=\"text-align:left\"><span style=\"color:red; font-family:Times New Roman; font-size:1.8em;\"> Model #5 :  Quadratic Discriminant Analysis  </span></div>"
   ]
  },
  {
   "cell_type": "code",
   "execution_count": 169,
   "metadata": {
    "collapsed": false
   },
   "outputs": [],
   "source": [
    "def model_QDA_PCA(X, x_train_scaled, x_test_scaled, y_train, y_test):\n",
    "    feature_number=len(X.columns)\n",
    "    pca = PCA(random_state=0)\n",
    "    n_components = range(1,feature_number,1)\n",
    "    classifier = QuadraticDiscriminantAnalysis()\n",
    "    pipe = Pipeline(steps=[('pca', pca), ('clf', classifier)]) \n",
    "    grid = GridSearchCV(pipe,dict(pca__n_components=n_components), scoring='accuracy', n_jobs=-1)   \n",
    "    grid.fit(x_train_scaled, y_train)\n",
    "    print 'Best parameters set found on development set:%r' % (grid.best_params_) \n",
    "    print 'Best average accuracy in validation set: %.5f' %(grid.best_score_)\n",
    "    print 'Accuracy in test set: %.5f' %(grid.score(x_test_scaled,y_test))\n",
    "    return grid.score(x_test_scaled,y_test)"
   ]
  },
  {
   "cell_type": "code",
   "execution_count": 170,
   "metadata": {
    "collapsed": false
   },
   "outputs": [
    {
     "name": "stdout",
     "output_type": "stream",
     "text": [
      "Best parameters set found on development set:{'pca__n_components': 2}\n",
      "Best average accuracy in validation set: 0.52575\n",
      "Accuracy in test set: 0.48333\n"
     ]
    }
   ],
   "source": [
    "accuracy_LDA = model_QDA_PCA(X, x_train_scaled, x_test_scaled, y_train, y_test)"
   ]
  },
  {
   "cell_type": "markdown",
   "metadata": {},
   "source": [
    "<div style=\"text-align:left\"><span style=\"color:red; font-family:Times New Roman; font-size:1.8em;\"> Model #6 :  GaussianNB </span></div>"
   ]
  },
  {
   "cell_type": "code",
   "execution_count": 171,
   "metadata": {
    "collapsed": false
   },
   "outputs": [],
   "source": [
    "def model_GaussianNB_PCA(X, x_train_scaled, x_test_scaled, y_train, y_test):\n",
    "    feature_number=len(X.columns)\n",
    "    pca = PCA(random_state=0)\n",
    "    n_components = range(1,feature_number,1)    \n",
    "    classifier = GaussianNB()\n",
    "    pipe = Pipeline(steps=[('pca', pca), ('clf', classifier)]) \n",
    "    grid = GridSearchCV(pipe,dict(pca__n_components=n_components), scoring='accuracy', n_jobs=-1)   \n",
    "    grid.fit(x_train_scaled, y_train)\n",
    "    #for params, mean_score, scores in grid.grid_scores_:\n",
    "    #    print '%.5f +/- %.5f %r' %(mean_score, scores.std(),params)\n",
    "    print 'Best parameters set found on development set:%r' % (grid.best_params_) \n",
    "    print 'Best average accuracy in validation set: %.5f' %(grid.best_score_)\n",
    "    print 'Accuracy in test set: %.5f' %(grid.score(x_test_scaled,y_test))\n",
    "    return grid.score(x_test_scaled,y_test)"
   ]
  },
  {
   "cell_type": "code",
   "execution_count": 172,
   "metadata": {
    "collapsed": false
   },
   "outputs": [
    {
     "name": "stdout",
     "output_type": "stream",
     "text": [
      "Best parameters set found on development set:{'pca__n_components': 2}\n",
      "Best average accuracy in validation set: 0.52694\n",
      "Accuracy in test set: 0.52500\n"
     ]
    }
   ],
   "source": [
    "accuracy_GaussianNB = model_GaussianNB_PCA(X, x_train_scaled, x_test_scaled, y_train, y_test)"
   ]
  },
  {
   "cell_type": "markdown",
   "metadata": {},
   "source": [
    "<div style=\"text-align:left\"><span style=\"color:red; font-family:Times New Roman; font-size:1.8em;\"> Model #7 :  NuSVC </span></div>"
   ]
  },
  {
   "cell_type": "code",
   "execution_count": 86,
   "metadata": {
    "collapsed": false
   },
   "outputs": [],
   "source": [
    "def model_NuSVC_PCA(X, x_train_scaled, x_test_scaled, y_train, y_test):\n",
    "    feature_number=len(X.columns)\n",
    "    pca = PCA(random_state=0)\n",
    "    n_components = range(1,feature_number,1)  \n",
    "    classifier = NuSVC(random_state=0)\n",
    "    pipe = Pipeline(steps=[('pca', pca), ('clf', classifier)]) \n",
    "    grid = GridSearchCV(pipe,dict(pca__n_components=n_components, \n",
    "                                  clf__nu=[0.5,0.6,0.7,0.8,0.9,1],\n",
    "                                  clf__kernel=['linear']) , \n",
    "                        scoring='accuracy', n_jobs=-1)    \n",
    "    grid.fit(x_train_scaled, y_train)\n",
    "    #for params, mean_score, scores in grid.grid_scores_: \n",
    "    #    print '%.5f +/- %.5f %r' %(mean_score, scores.std(),params)\n",
    "    print 'Best parameters set found on development set:%r' % (grid.best_params_) \n",
    "    print 'Best average accuracy in validation set: %.5f' %(grid.best_score_)\n",
    "    print 'Accuracy in test set: %.5f' %(grid.score(x_test_scaled,y_test))\n",
    "    return grid.score(x_test_scaled,y_test)"
   ]
  },
  {
   "cell_type": "code",
   "execution_count": 97,
   "metadata": {
    "collapsed": false
   },
   "outputs": [
    {
     "name": "stdout",
     "output_type": "stream",
     "text": [
      "0.53458 +/- 0.01518 {'pca__n_components': 5, 'clf__nu': 0.9, 'clf__kernel': 'linear'}\n",
      "Best parameters set found on development set:{'pca__n_components': 5, 'clf__nu': 0.9, 'clf__kernel': 'linear'}\n",
      "Best average accuracy in validation set: 0.53458\n",
      "Accuracy in test set: 0.50829\n"
     ]
    }
   ],
   "source": [
    "accuracy_NuSVC = model_NuSVC_PCA(X, x_train_scaled, x_test_scaled, y_train, y_test)"
   ]
  },
  {
   "cell_type": "markdown",
   "metadata": {},
   "source": [
    "<div style=\"text-align:left\"><span style=\"color:red; font-family:Times New Roman; font-size:1.8em;\"> Model #8 :  Decision Tree Classifier </span></div>"
   ]
  },
  {
   "cell_type": "code",
   "execution_count": 173,
   "metadata": {
    "collapsed": false
   },
   "outputs": [],
   "source": [
    "def model_DecisionTree_PCA(X, x_train_scaled, x_test_scaled, y_train, y_test):\n",
    "    feature_number=len(X.columns)\n",
    "    pca = PCA(random_state=0)\n",
    "    n_components = range(1,feature_number,1)     \n",
    "    classifier = DecisionTreeClassifier(criterion='entropy', random_state=0)\n",
    "    pipe = Pipeline(steps=[('pca', pca), ('clf', classifier)]) \n",
    "    grid = GridSearchCV(pipe,dict(pca__n_components=n_components, clf__max_depth=range(1,10),\n",
    "                                 clf__max_features=np.linspace(0.1,1,10)) , \n",
    "                        scoring='accuracy', n_jobs=-1)\n",
    "    grid.fit(x_train_scaled, y_train)\n",
    "    #for params, mean_score, scores in grid.grid_scores_: \n",
    "    #    print '%.5f +/- %.5f %r' %(mean_score, scores.std(),params)\n",
    "    print 'Best parameters set found on development set:%r' % (grid.best_params_) \n",
    "    print 'Best average accuracy in validation set: %.5f' %(grid.best_score_)\n",
    "    print 'Accuracy in test set: %.5f' %(grid.score(x_test_scaled,y_test))\n",
    "    return grid.score(x_test_scaled,y_test)"
   ]
  },
  {
   "cell_type": "code",
   "execution_count": 174,
   "metadata": {
    "collapsed": false
   },
   "outputs": [
    {
     "name": "stdout",
     "output_type": "stream",
     "text": [
      "Best parameters set found on development set:{'clf__max_features': 0.20000000000000001, 'clf__max_depth': 1, 'pca__n_components': 29}\n",
      "Best average accuracy in validation set: 0.54174\n",
      "Accuracy in test set: 0.50000\n"
     ]
    }
   ],
   "source": [
    "accuracy_DecisionTree = model_DecisionTree_PCA(X, x_train_scaled, x_test_scaled, y_train, y_test)"
   ]
  },
  {
   "cell_type": "markdown",
   "metadata": {},
   "source": [
    "<div style=\"text-align:left\"><span style=\"color:red; font-family:Times New Roman; font-size:1.8em;\"> Model #9 :  Random Forest Classifier </span></div>"
   ]
  },
  {
   "cell_type": "code",
   "execution_count": 8,
   "metadata": {
    "collapsed": false
   },
   "outputs": [],
   "source": [
    "def model_RandomForest_PCA(X, x_train_scaled, x_test_scaled, y_train, y_test):\n",
    "    feature_number=len(X.columns)\n",
    "    pca = PCA(random_state=0)\n",
    "    n_components = range(1,feature_number,1)     \n",
    "    classifier = RandomForestClassifier(criterion='entropy', random_state=0)\n",
    "    pipe = Pipeline(steps=[('pca', pca), ('clf', classifier)]) \n",
    "    grid = GridSearchCV(pipe,dict(pca__n_components=n_components, clf__max_depth=range(1,10), \n",
    "                                  clf__n_estimators=range(1,20,2),\n",
    "                                  clf__max_features=[0.1,0.2,0.4,0.6,0.8,1.0]\n",
    "                                 ), scoring='accuracy', n_jobs=-1) \n",
    "    grid.fit(x_train_scaled, y_train)\n",
    "    for params, mean_score, scores in grid.grid_scores_: \n",
    "        print '%.5f +/- %.5f %r' %(mean_score, scores.std(),params)\n",
    "    print 'Best parameters set found on development set:%r' % (grid.best_params_) \n",
    "    print 'Best average accuracy in validation set: %.5f' %(grid.best_score_)\n",
    "    print 'Accuracy in test set: %.5f' %(grid.score(x_test_scaled,y_test))\n",
    "    return grid.score(x_test_scaled,y_test)"
   ]
  },
  {
   "cell_type": "code",
   "execution_count": 76,
   "metadata": {
    "collapsed": false
   },
   "outputs": [
    {
     "name": "stdout",
     "output_type": "stream",
     "text": [
      "0.53404 +/- 0.00807 {'clf__max_features': 0.4, 'clf__max_depth': 1, 'pca__n_components': 7, 'clf__n_estimators': 100}\n",
      "Best parameters set found on development set:{'clf__max_features': 0.4, 'clf__max_depth': 1, 'pca__n_components': 7, 'clf__n_estimators': 100}\n",
      "Best average accuracy in validation set: 0.53404\n",
      "Accuracy in test set: 0.54167\n"
     ]
    },
    {
     "name": "stderr",
     "output_type": "stream",
     "text": [
      "C:\\Python27\\Scripts\\Anaconda2\\lib\\site-packages\\sklearn\\model_selection\\_search.py:667: DeprecationWarning: The grid_scores_ attribute was deprecated in version 0.18 in favor of the more elaborate cv_results_ attribute. The grid_scores_ attribute will not be available from 0.20\n",
      "  DeprecationWarning)\n"
     ]
    }
   ],
   "source": [
    "accuracy_RandomForest = model_RandomForest_PCA(X, x_train_scaled, x_test_scaled, y_train, y_test)"
   ]
  },
  {
   "cell_type": "markdown",
   "metadata": {},
   "source": [
    "<div style=\"text-align:left\"><span style=\"color:red; font-family:Times New Roman; font-size:1.8em;\"> Model #10  Extra Trees Classifier </span></div>"
   ]
  },
  {
   "cell_type": "code",
   "execution_count": 31,
   "metadata": {
    "collapsed": false
   },
   "outputs": [],
   "source": [
    "def model_ExtraTree_PCA(X, x_train_scaled, x_test_scaled, y_train, y_test):\n",
    "    feature_number=len(X.columns)\n",
    "    pca = PCA(random_state=0)\n",
    "    n_components = range(1,feature_number,1)     \n",
    "    classifier = ExtraTreesClassifier(criterion='entropy', random_state=0)#randomly select some features and threshold for each split\n",
    "    pipe = Pipeline(steps=[('pca', pca), ('clf', classifier)]) \n",
    "    grid = GridSearchCV(pipe,dict(pca__n_components=n_components, clf__max_depth=range(1,10), \n",
    "                                  clf__n_estimators=[10,20,50,100,110,150,200,300,500]), \n",
    "                   scoring='accuracy', n_jobs=-1)   \n",
    "    grid.fit(x_train_scaled, y_train)\n",
    "    for params, mean_score, scores in grid.grid_scores_: \n",
    "        print '%.5f +/- %.5f %r' %(mean_score, scores.std(),params)\n",
    "    print 'Best parameters set found on development set:%r' % (grid.best_params_) \n",
    "    print 'Best average accuracy in validation set: %.5f' %(grid.best_score_)\n",
    "    print 'Accuracy in test set: %.5f' %(grid.score(x_test_scaled,y_test))\n",
    "    return grid.score(x_test_scaled,y_test)"
   ]
  },
  {
   "cell_type": "code",
   "execution_count": 82,
   "metadata": {
    "collapsed": false
   },
   "outputs": [
    {
     "name": "stdout",
     "output_type": "stream",
     "text": [
      "0.54589 +/- 0.01915 {'pca__n_components': 14, 'clf__max_depth': 1, 'clf__n_estimators': 110}\n",
      "Best parameters set found on development set:{'pca__n_components': 14, 'clf__max_depth': 1, 'clf__n_estimators': 110}\n",
      "Best average accuracy in validation set: 0.54589\n",
      "Accuracy in test set: 0.54167\n"
     ]
    },
    {
     "name": "stderr",
     "output_type": "stream",
     "text": [
      "C:\\Python27\\Scripts\\Anaconda2\\lib\\site-packages\\sklearn\\model_selection\\_search.py:667: DeprecationWarning: The grid_scores_ attribute was deprecated in version 0.18 in favor of the more elaborate cv_results_ attribute. The grid_scores_ attribute will not be available from 0.20\n",
      "  DeprecationWarning)\n"
     ]
    }
   ],
   "source": [
    "accuracy_ExtraTree = model_ExtraTree_PCA(X, x_train_scaled, x_test_scaled, y_train, y_test)"
   ]
  },
  {
   "cell_type": "markdown",
   "metadata": {},
   "source": [
    "<div style=\"text-align:left\"><span style=\"color:red; font-family:Times New Roman; font-size:1.8em;\"> Model #11  Bagging Classifier </span></div>"
   ]
  },
  {
   "cell_type": "code",
   "execution_count": 12,
   "metadata": {
    "collapsed": false
   },
   "outputs": [],
   "source": [
    "def model_Bagging_PCA(X, x_train_scaled, x_test_scaled, y_train, y_test):\n",
    "    feature_number=len(X.columns)\n",
    "    pca = PCA(random_state=0)\n",
    "    n_components = range(1,feature_number,1)  \n",
    "    tree=DecisionTreeClassifier(criterion='entropy',  max_depth=None)\n",
    "    classifier = BaggingClassifier(base_estimator=tree, \n",
    "                               max_samples=5, bootstrap=True, bootstrap_features =True, random_state=0) \n",
    "    pipe = Pipeline(steps=[('pca', pca), ('clf', classifier)]) \n",
    "    grid = GridSearchCV(pipe,dict(pca__n_components=n_components, clf__n_estimators=range(1,40,5), \n",
    "                                  clf__max_samples=range(1,20,2)), scoring='accuracy', n_jobs=-1)    \n",
    "    grid.fit(x_train_scaled, y_train)\n",
    "    #for params, mean_score, scores in grid.grid_scores_: \n",
    "    #    print '%.5f +/- %.5f %r' %(mean_score, scores.std(),params)\n",
    "    print 'Best parameters set found on development set:%r' % (grid.best_params_) \n",
    "    print 'Best average accuracy in validation set: %.5f' %(grid.best_score_)\n",
    "    print 'Accuracy in test set: %.5f' %(grid.score(x_test_scaled,y_test))\n",
    "    return grid.score(x_test_scaled,y_test)"
   ]
  },
  {
   "cell_type": "code",
   "execution_count": 85,
   "metadata": {
    "collapsed": false
   },
   "outputs": [
    {
     "name": "stdout",
     "output_type": "stream",
     "text": [
      "Best parameters set found on development set:{'pca__n_components': 35, 'clf__n_estimators': 200, 'clf__max_samples': 3}\n",
      "Best average accuracy in validation set: 0.54944\n",
      "Accuracy in test set: 0.54167\n"
     ]
    }
   ],
   "source": [
    "accuracy_Bagging = model_Bagging_PCA(X, x_train_scaled, x_test_scaled, y_train, y_test)"
   ]
  },
  {
   "cell_type": "markdown",
   "metadata": {},
   "source": [
    "<div style=\"text-align:left\"><span style=\"color:red; font-family:Times New Roman; font-size:1.8em;\"> Model #12  AdaBoost Classifier </span></div>"
   ]
  },
  {
   "cell_type": "code",
   "execution_count": 12,
   "metadata": {
    "collapsed": false
   },
   "outputs": [],
   "source": [
    "def model_AdaBoost_PCA(X, x_train_scaled, x_test_scaled, y_train, y_test):\n",
    "    feature_number=len(X.columns)\n",
    "    pca = PCA(random_state=0)\n",
    "    n_components = range(1,feature_number,1)  \n",
    "    tree=DecisionTreeClassifier(criterion='entropy',  max_depth=1)\n",
    "    classifier = AdaBoostClassifier(base_estimator=tree, random_state=0) \n",
    "    pipe = Pipeline(steps=[('pca', pca), ('clf', classifier)]) \n",
    "    grid = GridSearchCV(pipe,dict(pca__n_components=n_components, clf__n_estimators=range(1,40,5), \n",
    "                             clf__learning_rate=[0.1, 0.3, 0.5, 0.7, 1]), scoring='accuracy', n_jobs=-1)\n",
    "    grid.fit(x_train_scaled, y_train)\n",
    "    #for params, mean_score, scores in grid.grid_scores_: \n",
    "    #    print '%.5f +/- %.5f %r' %(mean_score, scores.std(),params)\n",
    "    print 'Best parameters set found on development set:%r' % (grid.best_params_) \n",
    "    print 'Best average accuracy in validation set: %.5f' %(grid.best_score_)\n",
    "    print 'Accuracy in test set: %.5f' %(grid.score(x_test_scaled,y_test))\n",
    "    return grid.score(x_test_scaled,y_test)\n",
    "\n"
   ]
  },
  {
   "cell_type": "code",
   "execution_count": 90,
   "metadata": {
    "collapsed": false
   },
   "outputs": [
    {
     "name": "stdout",
     "output_type": "stream",
     "text": [
      "Best parameters set found on development set:{'pca__n_components': 2, 'clf__learning_rate': 0.1, 'clf__n_estimators': 1}\n",
      "Best average accuracy in validation set: 0.52516\n",
      "Accuracy in test set: 0.55833\n"
     ]
    }
   ],
   "source": [
    "accuracy_AdaBoost = model_AdaBoost_PCA(X, x_train_scaled, x_test_scaled, y_train, y_test)"
   ]
  },
  {
   "cell_type": "markdown",
   "metadata": {},
   "source": [
    "<div style=\"text-align:left\"><span style=\"color:red; font-family:Times New Roman; font-size:1.8em;\"> Model #13  Gradient Boosting Classifier </span></div>"
   ]
  },
  {
   "cell_type": "code",
   "execution_count": 12,
   "metadata": {
    "collapsed": false
   },
   "outputs": [],
   "source": [
    "def model_GradientBoosting_PCA(X, x_train_scaled, x_test_scaled, y_train, y_test):\n",
    "    feature_number=len(X.columns)\n",
    "    pca = PCA(random_state=0)\n",
    "    n_components = range(1,feature_number,1)        \n",
    "    classifier = GradientBoostingClassifier(random_state=0) \n",
    "    pipe = Pipeline(steps=[('pca', pca), ('clf', classifier)]) \n",
    "    grid = GridSearchCV(pipe,dict(pca__n_components=n_components, clf__n_estimators=[1,5,10,20,30,40,50,60,70,80,90,100], \n",
    "                             clf__learning_rate=np.linspace(0.1,1,10), clf__max_depth=range(1,10),\n",
    "                             clf__max_features=np.linspace(0.1,1,10)), scoring='accuracy', n_jobs=-1)                  \n",
    "    grid.fit(x_train_scaled, y_train)\n",
    "    for params, mean_score, scores in grid.grid_scores_: \n",
    "        print '%.5f +/- %.5f %r' %(mean_score, scores.std(),params)\n",
    "    print 'Best parameters set found on development set:%r' % (grid.best_params_) \n",
    "    print 'Best average accuracy in validation set: %.5f' %(grid.best_score_)\n",
    "    print 'Accuracy in test set: %.5f' %(grid.score(x_test_scaled,y_test))\n",
    "    return grid.score(x_test_scaled,y_test)"
   ]
  },
  {
   "cell_type": "code",
   "execution_count": 128,
   "metadata": {
    "collapsed": false
   },
   "outputs": [
    {
     "name": "stdout",
     "output_type": "stream",
     "text": [
      "0.53878 +/- 0.00520 {'clf__max_features': 0.1, 'clf__max_depth': 2, 'clf__learning_rate': 0.2, 'pca__n_components': 1, 'clf__n_estimators': 50}\n",
      "Best parameters set found on development set:{'clf__max_features': 0.1, 'clf__max_depth': 2, 'clf__learning_rate': 0.2, 'pca__n_components': 1, 'clf__n_estimators': 50}\n",
      "Best average accuracy in validation set: 0.53878\n",
      "Accuracy in test set: 0.52500\n"
     ]
    }
   ],
   "source": [
    "accuracy_GradientBoosting = model_GradientBoosting_PCA(X, x_train_scaled, x_test_scaled, y_train, y_test)"
   ]
  },
  {
   "cell_type": "markdown",
   "metadata": {},
   "source": [
    "<div style=\"text-align:left\"><span style=\"color:red; font-family:Times New Roman; font-size:1.8em;\"> Model #14  XGB Classifier </span></div>"
   ]
  },
  {
   "cell_type": "code",
   "execution_count": 177,
   "metadata": {
    "collapsed": false
   },
   "outputs": [],
   "source": [
    "def model_XGB_PCA(X, x_train_scaled, x_test_scaled, y_train, y_test):\n",
    "    feature_number=len(X.columns)\n",
    "    pca = PCA(random_state=0)\n",
    "    n_components = range(1,feature_number,1)                         \n",
    "    classifier = XGBClassifier(objective='binary:logistic') \n",
    "    pipe = Pipeline(steps=[('pca', pca), ('clf', classifier)]) \n",
    "    grid = GridSearchCV(pipe,dict(pca__n_components=n_components, clf__n_estimators=[10, 20, 50,100,200], \n",
    "                        clf__learning_rate=np.linspace(0.1,1,10), clf__subsample=[0.6,0.8,0.9,1],\n",
    "                        clf__max_depth=range(1,11)),scoring='accuracy', n_jobs=-1)                 \n",
    "    grid.fit(x_train_scaled, y_train)\n",
    "    #for params, mean_score, scores in grid.grid_scores_: \n",
    "    #    print '%.5f +/- %.5f %r' %(mean_score, scores.std(),params)\n",
    "    print 'Best parameters set found on development set:%r' % (grid.best_params_) \n",
    "    print 'Best average accuracy in validation set: %.5f' %(grid.best_score_)\n",
    "    print 'Accuracy in test set: %.5f' %(grid.score(x_test_scaled,y_test))\n",
    "    return grid.score(x_test_scaled,y_test)"
   ]
  },
  {
   "cell_type": "code",
   "execution_count": 191,
   "metadata": {
    "collapsed": false,
    "scrolled": true
   },
   "outputs": [
    {
     "name": "stdout",
     "output_type": "stream",
     "text": [
      "Best parameters set found on development set:{'pca__n_components': 1, 'clf__max_depth': 3, 'clf__learning_rate': 0.2, 'clf__n_estimators': 30, 'clf__subsample': 1}\n",
      "Best average accuracy in validation set: 0.53878\n",
      "Accuracy in test set: 0.54167\n"
     ]
    }
   ],
   "source": [
    "accuracy_XGB = model_XGB_PCA(X, x_train_scaled, x_test_scaled, y_train, y_test)"
   ]
  },
  {
   "cell_type": "markdown",
   "metadata": {},
   "source": [
    "<div style=\"text-align:left\"><span style=\"color:red; font-family:Times New Roman; font-size:1.8em;\"> Model #15  K Neighbors Classifier </span></div>"
   ]
  },
  {
   "cell_type": "code",
   "execution_count": 175,
   "metadata": {
    "collapsed": false
   },
   "outputs": [],
   "source": [
    "def model_KNeighbors_PCA(X, x_train_scaled, x_test_scaled, y_train, y_test):\n",
    "    feature_number=len(X.columns)\n",
    "    pca = PCA(random_state=0)\n",
    "    n_components = range(1,feature_number,1)                         \n",
    "    classifier = KNeighborsClassifier(p=2) \n",
    "    pipe = Pipeline(steps=[('pca', pca), ('clf', classifier)]) \n",
    "    grid = GridSearchCV(pipe,dict(pca__n_components=n_components, clf__n_neighbors=range(3,20,1)), \n",
    "                             scoring='accuracy', n_jobs=-1)    \n",
    "    grid.fit(x_train_scaled, y_train)\n",
    "    print 'Best parameters set found on development set:%r' % (grid.best_params_) \n",
    "    print 'Best average accuracy in validation set: %.5f' %(grid.best_score_)\n",
    "    print 'Accuracy in test set: %.5f' %(grid.score(x_test_scaled,y_test))\n",
    "    return grid.score(x_test_scaled,y_test)"
   ]
  },
  {
   "cell_type": "code",
   "execution_count": 176,
   "metadata": {
    "collapsed": false
   },
   "outputs": [
    {
     "name": "stdout",
     "output_type": "stream",
     "text": [
      "Best parameters set found on development set:{'pca__n_components': 15, 'clf__n_neighbors': 7}\n",
      "Best average accuracy in validation set: 0.51924\n",
      "Accuracy in test set: 0.50833\n"
     ]
    }
   ],
   "source": [
    "accuracy_KNeighbors = model_KNeighbors_PCA(X, x_train_scaled, x_test_scaled, y_train, y_test)"
   ]
  },
  {
   "cell_type": "markdown",
   "metadata": {},
   "source": [
    "<div style=\"text-align:left\"><span style=\"color:red; font-family:Times New Roman; font-size:1.8em;\"> Model #16  Feed Forward Neural Network  </span></div>"
   ]
  },
  {
   "cell_type": "code",
   "execution_count": 73,
   "metadata": {
    "collapsed": false
   },
   "outputs": [],
   "source": [
    "def model_FFNN_PCA(X, x_train_scaled, x_test_scaled, y_train, y_test):\n",
    "    from keras.models import Sequential\n",
    "    from keras.layers.core import Dense\n",
    "    from keras.optimizers import Adam\n",
    "    \n",
    "    model = Sequential()\n",
    "    model.add(Dense(40, input_dim=len(X.columns), init='uniform', activation='relu'))#len(X.columns)=49 features\n",
    "    model.add(Dense(30, init='uniform', activation='relu'))\n",
    "    model.add(Dense(20, init='uniform', activation='relu'))\n",
    "    model.add(Dense(10, init='uniform', activation='relu'))\n",
    "    model.add(Dense(1, init='uniform', activation='sigmoid'))\n",
    "    model.compile(loss='binary_crossentropy',optimizer='adam', metrics=['accuracy'])\n",
    "    model.fit(x_train_scaled.values, y_train, nb_epoch=400, batch_size=len(x_train_scaled)/5,verbose=0)#1380samples\n",
    "    scores_train= model.evaluate(x_train_scaled.values, y_train, batch_size=len(x_train_scaled)/5, verbose=0)\n",
    "    scores_test= model.evaluate(x_test_scaled.values, y_test, batch_size=len(x_test_scaled)/5, verbose=0)\n",
    "    print(\"%s: %.2f%%\" % ('train score', scores_train[1]*100))\n",
    "    print(\"%s: %.2f%%\" % ('Test score', scores_test[1]*100))\n",
    "\n",
    "    return scores_test[1]"
   ]
  },
  {
   "cell_type": "code",
   "execution_count": 74,
   "metadata": {
    "collapsed": false
   },
   "outputs": [
    {
     "name": "stdout",
     "output_type": "stream",
     "text": [
      "train score: 52.46%\n",
      "Test score: 54.17%\n"
     ]
    }
   ],
   "source": [
    "accuracy_FFNN = model_FFNN_PCA(X, x_train_scaled, x_test_scaled, y_train, y_test)"
   ]
  },
  {
   "cell_type": "markdown",
   "metadata": {},
   "source": [
    "<div style=\"text-align:center\"><span style=\"color:blue; font-family:Times New Roman; font-size:3em;\"> Model Evaluation  </span></div>"
   ]
  },
  {
   "cell_type": "code",
   "execution_count": 2,
   "metadata": {
    "collapsed": false
   },
   "outputs": [
    {
     "data": {
      "text/plain": [
       "[('QuadraticDiscriminantAnalysis', 0.48333),\n",
       " ('DecisionTreeClassifier', 0.5),\n",
       " ('NuSVC', 0.50829),\n",
       " ('KNeighborsClassifier', 0.50833),\n",
       " ('GaussianNB', 0.525),\n",
       " ('GradientBoostingClassifier', 0.525),\n",
       " ('SVC', 0.54167),\n",
       " ('SGDClassifier', 0.54167),\n",
       " ('RandomForestClassifier', 0.54167),\n",
       " ('ExtraTreesClassifier', 0.54167),\n",
       " ('BaggingClassifier', 0.54167),\n",
       " ('XGBClassifier', 0.54167),\n",
       " ('Feed forward neural network', 0.5417),\n",
       " ('LogisticRegression', 0.55),\n",
       " ('LinearDiscriminantAnalysis', 0.55),\n",
       " ('AdaBoostClassifier', 0.55833)]"
      ]
     },
     "execution_count": 2,
     "metadata": {},
     "output_type": "execute_result"
    }
   ],
   "source": [
    "classifier_names=['SVC', 'LogisticRegression', 'SGDClassifier', 'LinearDiscriminantAnalysis',\n",
    "                 'QuadraticDiscriminantAnalysis', 'GaussianNB', 'NuSVC', 'DecisionTreeClassifier',\n",
    "                 'RandomForestClassifier', 'ExtraTreesClassifier', 'BaggingClassifier','AdaBoostClassifier',\n",
    "                  'GradientBoostingClassifier','XGBClassifier','KNeighborsClassifier', 'Feed forward neural network']\n",
    "#scores=[accuracy_SVC, accuracy_Logis, accuracy_SGD, accuracy_LDA,\n",
    "#        accuracy_LDA, accuracy_GaussianNB, accuracy_NuSVC, accuracy_DecisionTree,\n",
    "#        accuracy_RandomForest, accuracy_ExtraTree, accuracy_Bagging, accuracy_AdaBoost,\n",
    "#        accuracy_GradientBoosting, accuracy_XGB, accuracy_KNeighbors, accuracy_FFNN]\n",
    "\n",
    "scores=[0.54167, 0.55000, 0.54167, 0.55000,\n",
    "        0.48333, 0.52500, 0.50829 , 0.50000,\n",
    "        0.54167, 0.54167, 0.54167, 0.55833,\n",
    "        0.52500 , 0.54167, 0.50833, 0.5417]\n",
    "classifier_scores=zip(classifier_names, scores)\n",
    "classifier_scores=sorted(classifier_scores, key=lambda x:x[1])\n",
    "sorted(classifier_scores, key=lambda x:x[1])"
   ]
  },
  {
   "cell_type": "code",
   "execution_count": 3,
   "metadata": {
    "collapsed": false
   },
   "outputs": [
    {
     "data": {
      "image/png": "[encoded data removed]",
      "text/plain": [
       "<matplotlib.figure.Figure at 0x49dec18>"
      ]
     },
     "metadata": {},
     "output_type": "display_data"
    }
   ],
   "source": [
    "import matplotlib.pyplot as plt\n",
    "fig=plt.figure (figsize=(12,12), facecolor='white')\n",
    "plt.barh(range(0, len(classifier_scores)),zip(*classifier_scores)[1])\n",
    "plt.yticks(range(0, len(classifier_scores)), zip(*classifier_scores)[0])\n",
    "plt.xlim([0.45,0.58])\n",
    "plt.grid()\n",
    "plt.title('Model evaluation on the test set')\n",
    "plt.show()"
   ]
  },
  {
   "cell_type": "markdown",
   "metadata": {},
   "source": [
    "<div style=\"text-align:justify\"><span style=\"color:black; font-family:Times New Roman; font-size:1.5em;line-height:1.4em;\"> &nbsp;&nbsp;&nbsp;&nbsp;&nbsp;&nbsp; Each classification model was used to predict stock up/down on next day, which considered fundamental as well as technical features as input variables. I trained each model on the whole training set and reported the accuracy on the test set, as shown in the figure above. Of all the learning algorithms I applied, the AdaBoost classifier showed the best accuracy of around 0.56. AdaBoost is a boosting ensemble algorithm. It weights samples by how easy or difficult they are classified, leading to pay more or less attention to them in the construction of subsequent models. Linear Discriminant Analysis and Logistic Regression also gave better prediction accuracy on the test set, compared with other models. However, Quadratic Discriminant Analysis, Decision Tree Classifier and K Neighbors Classifier showed poor prediction power on the unseen test data. \n",
    "     \n",
    "\n",
    "\n",
    " </span></div>"
   ]
  },
  {
   "cell_type": "markdown",
   "metadata": {},
   "source": [
    "<div style=\"text-align:center\"><span style=\"color:blue; font-family:Times New Roman; font-size:3em;\"> Conclusion  </span></div>"
   ]
  },
  {
   "cell_type": "markdown",
   "metadata": {},
   "source": [
    "<div style=\"text-align:justify\"><span style=\"color:black; font-family:Times New Roman; font-size:1.5em;line-height:1.4em;\"> \n",
    "&nbsp;&nbsp;&nbsp;&nbsp;&nbsp;&nbsp;\n",
    "This project is aimed to apply machine learning and training it on the past stock data in order to predict  the sign of the movement of tomorrow‘s stock price. The results indicated that an AdaBoost classifier slightly outperformed other approaches. However, the best accuracy of 56% on short-term stock prediction is unsatisfying. This gives me a strong indication that there is no sufficient information to be found in the data to perform short-term prediction. Some underlying factors that can dramatically influence the future stock movement are not in scope of this project, such as Election results, rumors, political Effects, upgraded/downgraded by analysts, investor sentiments, etc. A more sophisticated algorithm may be needed to quantify and take these factors into consideration in Machine learning system. Other technique may be able to be considered for improving stock prediction:  a hybrid algorithm made of several learning models. For example, a combination of artificial neural networks (ANN) with Decision Tree was already reported to improve prediction accuracy of ANN.  \n",
    "<br\\>\n",
    "&nbsp;&nbsp;&nbsp;&nbsp;&nbsp;&nbsp;\n",
    "I am glad that I worked through the building procedures of Machine learning algorithms. I earned some knowledges and experience from it.  \n",
    " </span></div>"
   ]
  },
  {
   "cell_type": "code",
   "execution_count": null,
   "metadata": {
    "collapsed": true
   },
   "outputs": [],
   "source": []
  }
 ],
 "metadata": {
  "kernelspec": {
   "display_name": "Python 2",
   "language": "python",
   "name": "python2"
  },
  "language_info": {
   "codemirror_mode": {
    "name": "ipython",
    "version": 2
   },
   "file_extension": ".py",
   "mimetype": "text/x-python",
   "name": "python",
   "nbconvert_exporter": "python",
   "pygments_lexer": "ipython2",
   "version": "2.7.12"
  }
 },
 "nbformat": 4,
 "nbformat_minor": 0
}
